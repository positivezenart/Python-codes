{
  "nbformat": 4,
  "nbformat_minor": 0,
  "metadata": {
    "colab": {
      "provenance": [],
      "mount_file_id": "1yB75YFm21isoYHgX87Mc3nszCYCz6hCf",
      "authorship_tag": "ABX9TyM/4zn0XDTPHirxmo6WrDQ3",
      "include_colab_link": true
    },
    "kernelspec": {
      "name": "python3",
      "display_name": "Python 3"
    },
    "language_info": {
      "name": "python"
    }
  },
  "cells": [
    {
      "cell_type": "markdown",
      "metadata": {
        "id": "view-in-github",
        "colab_type": "text"
      },
      "source": [
        "<a href=\"https://colab.research.google.com/github/positivezenart/Python-codes/blob/main/pyspark.ipynb\" target=\"_parent\"><img src=\"https://colab.research.google.com/assets/colab-badge.svg\" alt=\"Open In Colab\"/></a>"
      ]
    },
    {
      "cell_type": "code",
      "execution_count": 1,
      "metadata": {
        "id": "EobPfaurWHbo"
      },
      "outputs": [],
      "source": [
        "!apt-get install openjdk-8-jdk-headless -qq > /dev/null"
      ]
    },
    {
      "cell_type": "code",
      "source": [
        "!wget -q https://archive.apache.org/dist/spark/spark-3.0.0/spark-3.0.0-bin-hadoop3.2.tgz"
      ],
      "metadata": {
        "id": "zF2OYMAIWnF7"
      },
      "execution_count": 2,
      "outputs": []
    },
    {
      "cell_type": "code",
      "source": [
        "!tar xf spark-3.0.0-bin-hadoop3.2.tgz"
      ],
      "metadata": {
        "id": "8ypr3Sh8Wo6J"
      },
      "execution_count": 3,
      "outputs": []
    },
    {
      "cell_type": "code",
      "source": [
        "import os\n",
        "os.environ[\"JAVA_HOME\"] = \"/usr/lib/jvm/java-8-openjdk-amd64\"\n",
        "os.environ[\"SPARK_HOME\"] = \"/content/spark-3.0.0-bin-hadoop3.2\""
      ],
      "metadata": {
        "id": "8fYkiVwuWrIS"
      },
      "execution_count": 4,
      "outputs": []
    },
    {
      "cell_type": "code",
      "source": [
        "!pip install -q findspark\n",
        "import findspark\n",
        "findspark.init()"
      ],
      "metadata": {
        "id": "V8x7G26eWtQy"
      },
      "execution_count": 5,
      "outputs": []
    },
    {
      "cell_type": "code",
      "source": [
        "from pyspark import SparkContext\n",
        "sc =SparkContext()"
      ],
      "metadata": {
        "id": "bGIkgdfcWvMB"
      },
      "execution_count": 6,
      "outputs": []
    },
    {
      "cell_type": "markdown",
      "source": [
        "Installing libraries"
      ],
      "metadata": {
        "id": "mElUkefsXcit"
      }
    },
    {
      "cell_type": "code",
      "source": [
        "from pyspark.sql import SparkSession\n",
        "from pyspark.sql.functions import avg\n",
        "import numpy as np\n",
        "from pyspark.sql import SparkSession\n",
        "from pyspark.sql.functions import expr,concat,col\n",
        "from pyspark.sql import Row\n",
        "from pyspark.sql.functions import concat, col, lit\n",
        "from pyspark.sql.types import StructType,StructField, StringType, IntegerType\n",
        "from pyspark.sql.functions import col,struct,when\n",
        "from pyspark.sql.types import StructType,StructField,StringType,IntegerType,BooleanType,FloatType"
      ],
      "metadata": {
        "id": "K2WCZNJvWyZf"
      },
      "execution_count": 7,
      "outputs": []
    },
    {
      "cell_type": "markdown",
      "source": [
        "Applications running on PySpark are 100x faster than\n",
        "\n",
        "traditional systems.\n",
        "You will get great benefits using PySpark for data ingestion pipelines.\n",
        "Using PySpark we can process data from Hadoop HDFS, AWS S3, and many file systems.\n",
        "PySpark also is used to process real-time data using Streaming and Kafka."
      ],
      "metadata": {
        "id": "zeZCgCqjYPYz"
      }
    },
    {
      "cell_type": "markdown",
      "source": [
        "**Spark Session:**\n",
        "SparkSession was introduced in version 2.0, It is an entry point to underlying PySpark functionality in order to programmatically create PySpark RDD, DataFrame.\n",
        "https://sparkbyexamples.com/pyspark/pyspark-what-is-sparksession/"
      ],
      "metadata": {
        "id": "UvYnLjqdZzvC"
      }
    },
    {
      "cell_type": "code",
      "source": [
        "spark = (SparkSession.builder\n",
        "                      .appName('SparkByExamples.com') \n",
        "                      .getOrCreate())\n",
        "print(spark) #create a new session"
      ],
      "metadata": {
        "colab": {
          "base_uri": "https://localhost:8080/"
        },
        "id": "ByqUzSdRZ92g",
        "outputId": "8b11e25e-3bf3-4ba8-bb3b-d254e647d56c"
      },
      "execution_count": 8,
      "outputs": [
        {
          "output_type": "stream",
          "name": "stdout",
          "text": [
            "<pyspark.sql.session.SparkSession object at 0x7fbe21634250>\n"
          ]
        }
      ]
    },
    {
      "cell_type": "code",
      "source": [
        "spark2 = (SparkSession.newSession)\n",
        "print(spark2) #creating new session"
      ],
      "metadata": {
        "colab": {
          "base_uri": "https://localhost:8080/"
        },
        "id": "6oKnjgwkbZ-c",
        "outputId": "fa4badb9-5e3f-49a2-9fab-72ae4c080514"
      },
      "execution_count": null,
      "outputs": [
        {
          "output_type": "stream",
          "name": "stdout",
          "text": [
            "<function SparkSession.newSession at 0x7fd4928e1310>\n"
          ]
        }
      ]
    },
    {
      "cell_type": "code",
      "source": [
        "spark3 = (SparkSession.builder.getOrCreate())\n",
        "print(spark3) #accessing the existing session"
      ],
      "metadata": {
        "colab": {
          "base_uri": "https://localhost:8080/"
        },
        "id": "3-RGCSU-bmZU",
        "outputId": "1df7a2d7-5d9a-49d2-8c06-38fec5587ca8"
      },
      "execution_count": null,
      "outputs": [
        {
          "output_type": "stream",
          "name": "stdout",
          "text": [
            "<pyspark.sql.session.SparkSession object at 0x7fd496440910>\n"
          ]
        }
      ]
    },
    {
      "cell_type": "markdown",
      "source": [
        "pyspark Dataframe"
      ],
      "metadata": {
        "id": "rLJyJYfPcCqy"
      }
    },
    {
      "cell_type": "markdown",
      "source": [
        "Create an empty RDD"
      ],
      "metadata": {
        "id": "WWTS89igcrl3"
      }
    },
    {
      "cell_type": "code",
      "source": [
        "empty_rdd = spark.sparkContext.emptyRDD()\n",
        "print(empty_rdd)"
      ],
      "metadata": {
        "colab": {
          "base_uri": "https://localhost:8080/"
        },
        "id": "c5xSuOhXcHjb",
        "outputId": "d7c37d19-e2d6-4d0a-a381-0278c3f96f6c"
      },
      "execution_count": null,
      "outputs": [
        {
          "output_type": "stream",
          "name": "stdout",
          "text": [
            "EmptyRDD[0] at emptyRDD at NativeMethodAccessorImpl.java:0\n"
          ]
        }
      ]
    },
    {
      "cell_type": "code",
      "source": [
        "#create a schema\n",
        "schema = StructType([\n",
        "  StructField('firstname', StringType(), True),\n",
        "  StructField('middlename', StringType(), True),\n",
        "  StructField('lastname', StringType(), True)\n",
        "  ])\n"
      ],
      "metadata": {
        "id": "x6AcE3Vnc7pp"
      },
      "execution_count": null,
      "outputs": []
    },
    {
      "cell_type": "code",
      "source": [
        "df = spark.createDataFrame(empty_rdd,schema)\n",
        "df.show()"
      ],
      "metadata": {
        "colab": {
          "base_uri": "https://localhost:8080/"
        },
        "id": "_BLqzD7YdReB",
        "outputId": "f23ffc8b-9208-4b43-8136-58af52af83dd"
      },
      "execution_count": null,
      "outputs": [
        {
          "output_type": "stream",
          "name": "stdout",
          "text": [
            "+---------+----------+--------+\n",
            "|firstname|middlename|lastname|\n",
            "+---------+----------+--------+\n",
            "+---------+----------+--------+\n",
            "\n"
          ]
        }
      ]
    },
    {
      "cell_type": "code",
      "source": [
        "df.printSchema()"
      ],
      "metadata": {
        "colab": {
          "base_uri": "https://localhost:8080/"
        },
        "id": "_vS_oVkydddC",
        "outputId": "ccb2744e-82bc-4c82-bcc2-ac7d24185485"
      },
      "execution_count": null,
      "outputs": [
        {
          "output_type": "stream",
          "name": "stdout",
          "text": [
            "root\n",
            " |-- firstname: string (nullable = true)\n",
            " |-- middlename: string (nullable = true)\n",
            " |-- lastname: string (nullable = true)\n",
            "\n"
          ]
        }
      ]
    },
    {
      "cell_type": "markdown",
      "source": [
        "Easy way to create a empty dataframe"
      ],
      "metadata": {
        "id": "SXmVVwIsdmxQ"
      }
    },
    {
      "cell_type": "code",
      "source": [
        "df1 = spark.createDataFrame([],schema)\n",
        "df1.show()"
      ],
      "metadata": {
        "colab": {
          "base_uri": "https://localhost:8080/"
        },
        "id": "7POS-TlodqL6",
        "outputId": "d219d3ce-7ea3-41f3-eebe-28976bcf481f"
      },
      "execution_count": null,
      "outputs": [
        {
          "output_type": "stream",
          "name": "stdout",
          "text": [
            "+---------+----------+--------+\n",
            "|firstname|middlename|lastname|\n",
            "+---------+----------+--------+\n",
            "+---------+----------+--------+\n",
            "\n"
          ]
        }
      ]
    },
    {
      "cell_type": "markdown",
      "source": [
        "Convert spark df to pandas"
      ],
      "metadata": {
        "id": "ZrclYu6afVTL"
      }
    },
    {
      "cell_type": "code",
      "source": [
        "#data\n",
        "data = [(\"James\",\"\",\"Smith\",\"36636\",\"M\",60000),\n",
        "        (\"Michael\",\"Rose\",\"\",\"40288\",\"M\",70000),\n",
        "        (\"Robert\",\"\",\"Williams\",\"42114\",\"\",400000),\n",
        "        (\"Maria\",\"Anne\",\"Jones\",\"39192\",\"F\",500000),\n",
        "        (\"Jen\",\"Mary\",\"Brown\",\"\",\"F\",0)]\n",
        "#columns\n",
        "columns = [\"first_name\",\"middle_name\",\"last_name\",\"dob\",\"gender\",\"salary\"]\n",
        "df3 = spark3.createDataFrame(data = data,schema= columns)"
      ],
      "metadata": {
        "id": "vWqLfPOHfYHf"
      },
      "execution_count": null,
      "outputs": []
    },
    {
      "cell_type": "code",
      "source": [
        "df3.printSchema()\n",
        "df3.show()"
      ],
      "metadata": {
        "colab": {
          "base_uri": "https://localhost:8080/"
        },
        "id": "CU5bsMjdgeTC",
        "outputId": "44006e19-f005-4561-df6c-29ea53c19f23"
      },
      "execution_count": null,
      "outputs": [
        {
          "output_type": "stream",
          "name": "stdout",
          "text": [
            "root\n",
            " |-- first_name: string (nullable = true)\n",
            " |-- middle_name: string (nullable = true)\n",
            " |-- last_name: string (nullable = true)\n",
            " |-- dob: string (nullable = true)\n",
            " |-- gender: string (nullable = true)\n",
            " |-- salary: long (nullable = true)\n",
            "\n",
            "+----------+-----------+---------+-----+------+------+\n",
            "|first_name|middle_name|last_name|  dob|gender|salary|\n",
            "+----------+-----------+---------+-----+------+------+\n",
            "|     James|           |    Smith|36636|     M| 60000|\n",
            "|   Michael|       Rose|         |40288|     M| 70000|\n",
            "|    Robert|           | Williams|42114|      |400000|\n",
            "|     Maria|       Anne|    Jones|39192|     F|500000|\n",
            "|       Jen|       Mary|    Brown|     |     F|     0|\n",
            "+----------+-----------+---------+-----+------+------+\n",
            "\n"
          ]
        }
      ]
    },
    {
      "cell_type": "code",
      "source": [
        "df3.show(2,vertical=True)"
      ],
      "metadata": {
        "colab": {
          "base_uri": "https://localhost:8080/"
        },
        "id": "N3tlfBvGg7jA",
        "outputId": "8ae4e92b-9d86-4b7f-d495-3f6f1e278600"
      },
      "execution_count": null,
      "outputs": [
        {
          "output_type": "stream",
          "name": "stdout",
          "text": [
            "-RECORD 0--------------\n",
            " first_name  | James   \n",
            " middle_name |         \n",
            " last_name   | Smith   \n",
            " dob         | 36636   \n",
            " gender      | M       \n",
            " salary      | 60000   \n",
            "-RECORD 1--------------\n",
            " first_name  | Michael \n",
            " middle_name | Rose    \n",
            " last_name   |         \n",
            " dob         | 40288   \n",
            " gender      | M       \n",
            " salary      | 70000   \n",
            "only showing top 2 rows\n",
            "\n"
          ]
        }
      ]
    },
    {
      "cell_type": "code",
      "source": [
        "df4 = df3.toPandas()\n",
        "print(df4)"
      ],
      "metadata": {
        "colab": {
          "base_uri": "https://localhost:8080/"
        },
        "id": "-zuMGRUoglni",
        "outputId": "8689ac6e-d47e-4c3e-b783-ee6b65bc3fc5"
      },
      "execution_count": null,
      "outputs": [
        {
          "output_type": "stream",
          "name": "stdout",
          "text": [
            "  first_name middle_name last_name    dob gender  salary\n",
            "0      James                 Smith  36636      M   60000\n",
            "1    Michael        Rose            40288      M   70000\n",
            "2     Robert              Williams  42114         400000\n",
            "3      Maria        Anne     Jones  39192      F  500000\n",
            "4        Jen        Mary     Brown             F       0\n"
          ]
        }
      ]
    },
    {
      "cell_type": "markdown",
      "source": [
        "**PySpark StructType & StructField** classes are used to programmatically specify the schema to the DataFrame and create complex columns like nested struct, array, and map columns. StructType is a collection of StructField’s that defines column name, column data type, boolean to specify if the field can be nullable or not and metadata."
      ],
      "metadata": {
        "id": "6VPnm7ijhULb"
      }
    },
    {
      "cell_type": "code",
      "source": [
        "#create a new spark session\n",
        "spark_struct = SparkSession.builder.appName(\"Struct_type\").getOrCreate()\n",
        "#columns data\n",
        "structureData = [\n",
        "    ((\"James\",\"\",\"Smith\"),36636,\"M\",3100),\n",
        "    ((\"Michael\",\"Rose\",\"\"),40288,\"M\",4300),\n",
        "    ((\"Robert\",\"\",\"Williams\"),42114,\"M\",1400),\n",
        "    ((\"Maria\",\"Anne\",\"Jones\"),39192,\"F\",5500),\n",
        "    ((\"Jen\",\"Mary\",\"Brown\"),0,\"F\",-1)\n",
        "  ]\n",
        "#schema file\n",
        "schema = StructType([ \n",
        "    StructField(\"name\",StructType([\n",
        "    StructField(\"firstname\",StringType(),True), \\\n",
        "    StructField(\"middlename\",StringType(),True), \\\n",
        "    StructField(\"lastname\",StringType(),True)])), \\\n",
        "    StructField(\"id\", IntegerType(), True), \\\n",
        "    StructField(\"gender\", StringType(), True), \\\n",
        "    StructField(\"salary\", IntegerType(), True) \\\n",
        "  ])\n",
        "#create Data frame\n",
        "df_struct = spark_struct.createDataFrame(structureData,schema)\n",
        "df_struct.show()\n",
        "df_struct.printSchema()"
      ],
      "metadata": {
        "colab": {
          "base_uri": "https://localhost:8080/"
        },
        "id": "cTGEHzW_hU_d",
        "outputId": "4aab89fe-9a0d-46ea-d047-19e742f6b033"
      },
      "execution_count": null,
      "outputs": [
        {
          "output_type": "stream",
          "name": "stdout",
          "text": [
            "+--------------------+-----+------+------+\n",
            "|                name|   id|gender|salary|\n",
            "+--------------------+-----+------+------+\n",
            "|    [James, , Smith]|36636|     M|  3100|\n",
            "|   [Michael, Rose, ]|40288|     M|  4300|\n",
            "|[Robert, , Williams]|42114|     M|  1400|\n",
            "|[Maria, Anne, Jones]|39192|     F|  5500|\n",
            "|  [Jen, Mary, Brown]|    0|     F|    -1|\n",
            "+--------------------+-----+------+------+\n",
            "\n",
            "root\n",
            " |-- name: struct (nullable = true)\n",
            " |    |-- firstname: string (nullable = true)\n",
            " |    |-- middlename: string (nullable = true)\n",
            " |    |-- lastname: string (nullable = true)\n",
            " |-- id: integer (nullable = true)\n",
            " |-- gender: string (nullable = true)\n",
            " |-- salary: integer (nullable = true)\n",
            "\n"
          ]
        }
      ]
    },
    {
      "cell_type": "code",
      "source": [
        "updatedDF = df_struct.withColumn(\"Other_info\",\n",
        "                      struct(col(\"id\").alias(\"identifier\"),\n",
        "                             col(\"gender\").alias(\"gender\"),\n",
        "                             col(\"salary\").alias(\"salary\"),\n",
        "                             when(col(\"salary\").cast(IntegerType()) <2000,\"Low\")\n",
        "                             .when(col(\"salary\").cast(IntegerType())<4000,\"medium\")\n",
        "                             .otherwise(col(\"salary\").alias(\"Salary_grade\"))))"
      ],
      "metadata": {
        "id": "LeRm4GszlZ9p"
      },
      "execution_count": null,
      "outputs": []
    },
    {
      "cell_type": "code",
      "source": [
        "updatedDF.show(truncate=False)"
      ],
      "metadata": {
        "colab": {
          "base_uri": "https://localhost:8080/"
        },
        "id": "-YGPiq5vmAdk",
        "outputId": "652a8753-287a-491a-9fa0-36aaf851b4de"
      },
      "execution_count": null,
      "outputs": [
        {
          "output_type": "stream",
          "name": "stdout",
          "text": [
            "+--------------------+-----+------+------+------------------------+\n",
            "|name                |id   |gender|salary|Other_info              |\n",
            "+--------------------+-----+------+------+------------------------+\n",
            "|[James, , Smith]    |36636|M     |3100  |[36636, M, 3100, medium]|\n",
            "|[Michael, Rose, ]   |40288|M     |4300  |[40288, M, 4300, 4300]  |\n",
            "|[Robert, , Williams]|42114|M     |1400  |[42114, M, 1400, Low]   |\n",
            "|[Maria, Anne, Jones]|39192|F     |5500  |[39192, F, 5500, 5500]  |\n",
            "|[Jen, Mary, Brown]  |0    |F     |-1    |[0, F, -1, Low]         |\n",
            "+--------------------+-----+------+------+------------------------+\n",
            "\n"
          ]
        }
      ]
    },
    {
      "cell_type": "code",
      "source": [
        "df_struct.columns"
      ],
      "metadata": {
        "colab": {
          "base_uri": "https://localhost:8080/"
        },
        "id": "39FwL9FQl2gg",
        "outputId": "5cc15cda-dff2-42ae-b751-afca425795b2"
      },
      "execution_count": null,
      "outputs": [
        {
          "output_type": "execute_result",
          "data": {
            "text/plain": [
              "['name', 'id', 'gender', 'salary']"
            ]
          },
          "metadata": {},
          "execution_count": 23
        }
      ]
    },
    {
      "cell_type": "code",
      "source": [
        "df_struct.select(col('id').alias(\"no_id\"),col('salary')).show()"
      ],
      "metadata": {
        "colab": {
          "base_uri": "https://localhost:8080/"
        },
        "id": "w5xZcixzl9sG",
        "outputId": "5e4c3fc2-5612-4245-908c-1af8923dec03"
      },
      "execution_count": null,
      "outputs": [
        {
          "output_type": "stream",
          "name": "stdout",
          "text": [
            "+-----+------+\n",
            "|no_id|salary|\n",
            "+-----+------+\n",
            "|36636|  3100|\n",
            "|40288|  4300|\n",
            "|42114|  1400|\n",
            "|39192|  5500|\n",
            "|    0|    -1|\n",
            "+-----+------+\n",
            "\n"
          ]
        }
      ]
    },
    {
      "cell_type": "code",
      "source": [
        "updatedDF.printSchema()"
      ],
      "metadata": {
        "colab": {
          "base_uri": "https://localhost:8080/"
        },
        "id": "ofnmfUPgnYNy",
        "outputId": "0d293cfe-be0f-4291-d232-49748fbf21d3"
      },
      "execution_count": null,
      "outputs": [
        {
          "output_type": "stream",
          "name": "stdout",
          "text": [
            "root\n",
            " |-- name: struct (nullable = true)\n",
            " |    |-- firstname: string (nullable = true)\n",
            " |    |-- middlename: string (nullable = true)\n",
            " |    |-- lastname: string (nullable = true)\n",
            " |-- id: integer (nullable = true)\n",
            " |-- gender: string (nullable = true)\n",
            " |-- salary: integer (nullable = true)\n",
            " |-- Other_info: struct (nullable = false)\n",
            " |    |-- identifier: integer (nullable = true)\n",
            " |    |-- gender: string (nullable = true)\n",
            " |    |-- salary: integer (nullable = true)\n",
            " |    |-- col4: string (nullable = true)\n",
            "\n"
          ]
        }
      ]
    },
    {
      "cell_type": "code",
      "source": [
        "#alias.sorting\n",
        "df_struct.select(df_struct.gender.alias(\"sex\"),df_struct.salary.alias(\"Money\"),df_struct.name) \\\n",
        "         .sort(df_struct.salary.desc()) \\\n",
        "         .filter(df_struct.salary.between(-1,5000)) \\\n",
        "         .filter(df_struct.name[\"firstname\"].startswith(\"J\")).show()"
      ],
      "metadata": {
        "colab": {
          "base_uri": "https://localhost:8080/"
        },
        "id": "UPLWqXEpo4AX",
        "outputId": "a8f93168-56c2-4f39-dddb-e8b4a3991002"
      },
      "execution_count": null,
      "outputs": [
        {
          "output_type": "stream",
          "name": "stdout",
          "text": [
            "+---+-----+------------------+\n",
            "|sex|Money|              name|\n",
            "+---+-----+------------------+\n",
            "|  M| 3100|  [James, , Smith]|\n",
            "|  F|   -1|[Jen, Mary, Brown]|\n",
            "+---+-----+------------------+\n",
            "\n"
          ]
        }
      ]
    },
    {
      "cell_type": "markdown",
      "source": [
        "Pyspark with pandas and Sql"
      ],
      "metadata": {
        "id": "rCFd2AwsubqG"
      }
    },
    {
      "cell_type": "code",
      "source": [
        "fire_schema = StructType([StructField('CallNumber', IntegerType(), True),\n",
        "StructField('UnitID', StringType(), True),\n",
        "StructField('IncidentNumber', IntegerType(), True),\n",
        "StructField('CallType', StringType(), True),\n",
        "StructField('CallDate', StringType(), True),\n",
        "StructField('WatchDate', StringType(), True),\n",
        "StructField('CallFinalDisposition', StringType(), True),\n",
        "StructField('AvailableDtTm', StringType(), True),\n",
        "StructField('Address', StringType(), True),\n",
        "StructField('City', StringType(), True),\n",
        "StructField('Zipcode', IntegerType(), True),\n",
        "StructField('Battalion', StringType(), True),\n",
        "StructField('StationArea', StringType(), True),\n",
        "StructField('Box', StringType(), True),\n",
        "StructField('OriginalPriority', StringType(), True),\n",
        "StructField('Priority', StringType(), True),\n",
        "StructField('FinalPriority', IntegerType(), True),\n",
        "StructField('ALSUnit', BooleanType(), True),\n",
        "StructField('CallTypeGroup', StringType(), True),\n",
        "StructField('NumAlarms', IntegerType(), True),\n",
        "StructField('UnitType', StringType(), True),\n",
        "StructField('UnitSequenceInCallDispatch', IntegerType(), True),\n",
        "StructField('FirePreventionDistrict', StringType(), True),\n",
        "StructField('SupervisorDistrict', StringType(), True),\n",
        "StructField('Neighborhood', StringType(), True),\n",
        "StructField('Location', StringType(), True),\n",
        "StructField('RowID', StringType(), True),\n",
        "StructField('Delay', FloatType(), True)])"
      ],
      "metadata": {
        "id": "hWBsuTyKueSk"
      },
      "execution_count": 9,
      "outputs": []
    },
    {
      "cell_type": "code",
      "source": [
        "sf_fire_file = \"/content/drive/My Drive/fireincident.csv\""
      ],
      "metadata": {
        "id": "9BVH4CZruhfc"
      },
      "execution_count": 10,
      "outputs": []
    },
    {
      "cell_type": "code",
      "source": [
        "fire_df = spark.read.csv(sf_fire_file, header=True, schema=fire_schema)"
      ],
      "metadata": {
        "id": "X3N6TJaHumoV"
      },
      "execution_count": 11,
      "outputs": []
    },
    {
      "cell_type": "code",
      "source": [
        "fire_df.columns"
      ],
      "metadata": {
        "colab": {
          "base_uri": "https://localhost:8080/"
        },
        "id": "Lw0YsSxwuzG8",
        "outputId": "222b35d1-98aa-4b1b-e183-e8fe222c8715"
      },
      "execution_count": 12,
      "outputs": [
        {
          "output_type": "execute_result",
          "data": {
            "text/plain": [
              "['CallNumber',\n",
              " 'UnitID',\n",
              " 'IncidentNumber',\n",
              " 'CallType',\n",
              " 'CallDate',\n",
              " 'WatchDate',\n",
              " 'CallFinalDisposition',\n",
              " 'AvailableDtTm',\n",
              " 'Address',\n",
              " 'City',\n",
              " 'Zipcode',\n",
              " 'Battalion',\n",
              " 'StationArea',\n",
              " 'Box',\n",
              " 'OriginalPriority',\n",
              " 'Priority',\n",
              " 'FinalPriority',\n",
              " 'ALSUnit',\n",
              " 'CallTypeGroup',\n",
              " 'NumAlarms',\n",
              " 'UnitType',\n",
              " 'UnitSequenceInCallDispatch',\n",
              " 'FirePreventionDistrict',\n",
              " 'SupervisorDistrict',\n",
              " 'Neighborhood',\n",
              " 'Location',\n",
              " 'RowID',\n",
              " 'Delay']"
            ]
          },
          "metadata": {},
          "execution_count": 12
        }
      ]
    },
    {
      "cell_type": "code",
      "source": [
        "fire_df.show(5)"
      ],
      "metadata": {
        "colab": {
          "base_uri": "https://localhost:8080/"
        },
        "id": "8a_nVFZDwylW",
        "outputId": "ddc2d79a-9c7c-412d-aae3-3eeb1d189893"
      },
      "execution_count": 13,
      "outputs": [
        {
          "output_type": "stream",
          "name": "stdout",
          "text": [
            "+----------+------+--------------+--------------------+-------------------+---------+--------------------+-------------------+-------------------+----+-------+---------+-----------+----+----------------+--------+-------------+-------+-------------+---------+--------+--------------------------+----------------------+------------------+------------+--------+-----+-----+\n",
            "|CallNumber|UnitID|IncidentNumber|            CallType|           CallDate|WatchDate|CallFinalDisposition|      AvailableDtTm|            Address|City|Zipcode|Battalion|StationArea| Box|OriginalPriority|Priority|FinalPriority|ALSUnit|CallTypeGroup|NumAlarms|UnitType|UnitSequenceInCallDispatch|FirePreventionDistrict|SupervisorDistrict|Neighborhood|Location|RowID|Delay|\n",
            "+----------+------+--------------+--------------------+-------------------+---------+--------------------+-------------------+-------------------+----+-------+---------+-----------+----+----------------+--------+-------------+-------+-------------+---------+--------+--------------------------+----------------------+------------------+------------+--------+-----+-----+\n",
            "|      null|     0|      80283040|       150 Elsie St.|2008-04-01T00:00:00| 80920257| 2008-04-01T18:06:37|2008-04-01T18:15:19|2008-04-01T18:21:48|  SF|  94110|      B06|         11|null|               1|       4|            0|   null|            0|        0|     E11|                      null|                  null|                 0|           0|       0|    0|  1.0|\n",
            "|      null|     0|      80283030|       85 Turner Tr.|2008-04-01T00:00:00| 80920256| 2008-04-01T18:00:52|2008-04-01T18:06:30|2008-04-01T18:22:18|  SF|  94107|      B10|         37|null|               1|       4|            0|   null|            0|        0|     E37|                      null|                  null|                 0|           0|       0|    0|  1.0|\n",
            "|      null|     0|      80283090|         175 6th St.|2008-04-01T00:00:00| 80920262| 2008-04-01T18:42:06|2008-04-01T18:45:23|2008-04-01T18:53:25|  SF|  94105|      B03|          1|null|              10|      35|            0|   null|            0|        0|     E01|                      null|                  null|                 0|           0|       0|    0|  1.0|\n",
            "|      null|     0|      80283140|       633 Hayes St.|2008-04-01T00:00:00| 80920268| 2008-04-01T19:03:52|2008-04-01T19:08:39|2008-04-01T19:35:36|  SF|  94102|      B02|         36|null|               1|       4|            0|   null|            0|        0|     E36|                      null|                  null|                 0|           0|       0|    0|  1.0|\n",
            "|      null|     0|      80283190|27th Av. / Cabril...|2008-04-01T00:00:00| 80920273| 2008-04-01T19:16:12|2008-04-01T19:23:48|2008-04-01T19:28:49|  SF|  94121|      B07|         14|null|               1|       4|            0|   null|            0|        0|     E14|                      null|                  null|                 0|           0|       0|    0|  1.0|\n",
            "+----------+------+--------------+--------------------+-------------------+---------+--------------------+-------------------+-------------------+----+-------+---------+-----------+----+----------------+--------+-------------+-------+-------------+---------+--------+--------------------------+----------------------+------------------+------------+--------+-----+-----+\n",
            "only showing top 5 rows\n",
            "\n"
          ]
        }
      ]
    },
    {
      "cell_type": "code",
      "source": [
        "#fire_df.select(\"incidentNumber\",\"CallType\",\"WatchDate\").show()\n",
        "#fire_df.select([col for col in fire_df.columns]).show()\n",
        "fire_df.select(\"*\").show(3)"
      ],
      "metadata": {
        "colab": {
          "base_uri": "https://localhost:8080/"
        },
        "id": "nqpzCDI83K6k",
        "outputId": "bae1e921-50af-49f8-e626-b6a697945355"
      },
      "execution_count": null,
      "outputs": [
        {
          "output_type": "stream",
          "name": "stdout",
          "text": [
            "+----------+------+--------------+-------------+-------------------+---------+--------------------+-------------------+-------------------+----+-------+---------+-----------+----+----------------+--------+-------------+-------+-------------+---------+--------+--------------------------+----------------------+------------------+------------+--------+-----+-----+\n",
            "|CallNumber|UnitID|IncidentNumber|     CallType|           CallDate|WatchDate|CallFinalDisposition|      AvailableDtTm|            Address|City|Zipcode|Battalion|StationArea| Box|OriginalPriority|Priority|FinalPriority|ALSUnit|CallTypeGroup|NumAlarms|UnitType|UnitSequenceInCallDispatch|FirePreventionDistrict|SupervisorDistrict|Neighborhood|Location|RowID|Delay|\n",
            "+----------+------+--------------+-------------+-------------------+---------+--------------------+-------------------+-------------------+----+-------+---------+-----------+----+----------------+--------+-------------+-------+-------------+---------+--------+--------------------------+----------------------+------------------+------------+--------+-----+-----+\n",
            "|      null|     0|      80283040|150 Elsie St.|2008-04-01T00:00:00| 80920257| 2008-04-01T18:06:37|2008-04-01T18:15:19|2008-04-01T18:21:48|  SF|  94110|      B06|         11|null|               1|       4|            0|   null|            0|        0|     E11|                      null|                  null|                 0|           0|       0|    0|  1.0|\n",
            "|      null|     0|      80283030|85 Turner Tr.|2008-04-01T00:00:00| 80920256| 2008-04-01T18:00:52|2008-04-01T18:06:30|2008-04-01T18:22:18|  SF|  94107|      B10|         37|null|               1|       4|            0|   null|            0|        0|     E37|                      null|                  null|                 0|           0|       0|    0|  1.0|\n",
            "|      null|     0|      80283090|  175 6th St.|2008-04-01T00:00:00| 80920262| 2008-04-01T18:42:06|2008-04-01T18:45:23|2008-04-01T18:53:25|  SF|  94105|      B03|          1|null|              10|      35|            0|   null|            0|        0|     E01|                      null|                  null|                 0|           0|       0|    0|  1.0|\n",
            "+----------+------+--------------+-------------+-------------------+---------+--------------------+-------------------+-------------------+----+-------+---------+-----------+----+----------------+--------+-------------+-------+-------------+---------+--------+--------------------------+----------------------+------------------+------------+--------+-----+-----+\n",
            "only showing top 3 rows\n",
            "\n"
          ]
        }
      ]
    },
    {
      "cell_type": "markdown",
      "source": [
        "PySpark RDD/DataFrame collect() is an action operation that is used to retrieve all the elements of the dataset (from all nodes) to the driver node. We should use the collect() on smaller dataset usually after filter(), group() e.t.c. Retrieving larger datasets results in OutOfMemory error."
      ],
      "metadata": {
        "id": "71giiZ2s4MQp"
      }
    },
    {
      "cell_type": "code",
      "source": [
        "df_struct.collect()[1][2]"
      ],
      "metadata": {
        "colab": {
          "base_uri": "https://localhost:8080/",
          "height": 36
        },
        "id": "CWQwago54Ldz",
        "outputId": "740f668b-1cb4-4f84-ad2c-3d3493ea623f"
      },
      "execution_count": null,
      "outputs": [
        {
          "output_type": "execute_result",
          "data": {
            "text/plain": [
              "'M'"
            ],
            "application/vnd.google.colaboratory.intrinsic+json": {
              "type": "string"
            }
          },
          "metadata": {},
          "execution_count": 67
        }
      ]
    },
    {
      "cell_type": "markdown",
      "source": [
        "PySpark withColumn() is a transformation function of DataFrame which is used to change the value, convert the datatype of an existing column, create a new column, and many more."
      ],
      "metadata": {
        "id": "euf3kQei5leS"
      }
    },
    {
      "cell_type": "code",
      "source": [
        "fire_df.withColumnRenamed(\"UnitID\",\"unitID\").show(2)"
      ],
      "metadata": {
        "id": "QbggcL4b5snq",
        "colab": {
          "base_uri": "https://localhost:8080/"
        },
        "outputId": "e0145259-b5e3-43d3-e30f-0859e7cc0fcd"
      },
      "execution_count": 15,
      "outputs": [
        {
          "output_type": "stream",
          "name": "stdout",
          "text": [
            "+----------+------+--------------+-------------+-------------------+---------+--------------------+-------------------+-------------------+----+-------+---------+-----------+----+----------------+--------+-------------+-------+-------------+---------+--------+--------------------------+----------------------+------------------+------------+--------+-----+-----+\n",
            "|CallNumber|unitID|IncidentNumber|     CallType|           CallDate|WatchDate|CallFinalDisposition|      AvailableDtTm|            Address|City|Zipcode|Battalion|StationArea| Box|OriginalPriority|Priority|FinalPriority|ALSUnit|CallTypeGroup|NumAlarms|UnitType|UnitSequenceInCallDispatch|FirePreventionDistrict|SupervisorDistrict|Neighborhood|Location|RowID|Delay|\n",
            "+----------+------+--------------+-------------+-------------------+---------+--------------------+-------------------+-------------------+----+-------+---------+-----------+----+----------------+--------+-------------+-------+-------------+---------+--------+--------------------------+----------------------+------------------+------------+--------+-----+-----+\n",
            "|      null|     0|      80283040|150 Elsie St.|2008-04-01T00:00:00| 80920257| 2008-04-01T18:06:37|2008-04-01T18:15:19|2008-04-01T18:21:48|  SF|  94110|      B06|         11|null|               1|       4|            0|   null|            0|        0|     E11|                      null|                  null|                 0|           0|       0|    0|  1.0|\n",
            "|      null|     0|      80283030|85 Turner Tr.|2008-04-01T00:00:00| 80920256| 2008-04-01T18:00:52|2008-04-01T18:06:30|2008-04-01T18:22:18|  SF|  94107|      B10|         37|null|               1|       4|            0|   null|            0|        0|     E37|                      null|                  null|                 0|           0|       0|    0|  1.0|\n",
            "+----------+------+--------------+-------------+-------------------+---------+--------------------+-------------------+-------------------+----+-------+---------+-----------+----+----------------+--------+-------------+-------+-------------+---------+--------+--------------------------+----------------------+------------------+------------+--------+-----+-----+\n",
            "only showing top 2 rows\n",
            "\n"
          ]
        }
      ]
    },
    {
      "cell_type": "code",
      "source": [
        "new_df = fire_df.withColumn(\"Unit\",lit(\"USA\"))\n",
        "new_df.drop(\"Unit\").show(2)\n",
        "new_df.printSchema()"
      ],
      "metadata": {
        "colab": {
          "base_uri": "https://localhost:8080/"
        },
        "id": "V4pGl4Z63AKB",
        "outputId": "1b1b5e14-8ddf-4a7c-d34c-da6ad9cf8ff6"
      },
      "execution_count": 20,
      "outputs": [
        {
          "output_type": "stream",
          "name": "stdout",
          "text": [
            "+----------+------+--------------+-------------+-------------------+---------+--------------------+-------------------+-------------------+----+-------+---------+-----------+----+----------------+--------+-------------+-------+-------------+---------+--------+--------------------------+----------------------+------------------+------------+--------+-----+-----+\n",
            "|CallNumber|UnitID|IncidentNumber|     CallType|           CallDate|WatchDate|CallFinalDisposition|      AvailableDtTm|            Address|City|Zipcode|Battalion|StationArea| Box|OriginalPriority|Priority|FinalPriority|ALSUnit|CallTypeGroup|NumAlarms|UnitType|UnitSequenceInCallDispatch|FirePreventionDistrict|SupervisorDistrict|Neighborhood|Location|RowID|Delay|\n",
            "+----------+------+--------------+-------------+-------------------+---------+--------------------+-------------------+-------------------+----+-------+---------+-----------+----+----------------+--------+-------------+-------+-------------+---------+--------+--------------------------+----------------------+------------------+------------+--------+-----+-----+\n",
            "|      null|     0|      80283040|150 Elsie St.|2008-04-01T00:00:00| 80920257| 2008-04-01T18:06:37|2008-04-01T18:15:19|2008-04-01T18:21:48|  SF|  94110|      B06|         11|null|               1|       4|            0|   null|            0|        0|     E11|                      null|                  null|                 0|           0|       0|    0|  1.0|\n",
            "|      null|     0|      80283030|85 Turner Tr.|2008-04-01T00:00:00| 80920256| 2008-04-01T18:00:52|2008-04-01T18:06:30|2008-04-01T18:22:18|  SF|  94107|      B10|         37|null|               1|       4|            0|   null|            0|        0|     E37|                      null|                  null|                 0|           0|       0|    0|  1.0|\n",
            "+----------+------+--------------+-------------+-------------------+---------+--------------------+-------------------+-------------------+----+-------+---------+-----------+----+----------------+--------+-------------+-------+-------------+---------+--------+--------------------------+----------------------+------------------+------------+--------+-----+-----+\n",
            "only showing top 2 rows\n",
            "\n",
            "root\n",
            " |-- CallNumber: integer (nullable = true)\n",
            " |-- UnitID: string (nullable = true)\n",
            " |-- IncidentNumber: integer (nullable = true)\n",
            " |-- CallType: string (nullable = true)\n",
            " |-- CallDate: string (nullable = true)\n",
            " |-- WatchDate: string (nullable = true)\n",
            " |-- CallFinalDisposition: string (nullable = true)\n",
            " |-- AvailableDtTm: string (nullable = true)\n",
            " |-- Address: string (nullable = true)\n",
            " |-- City: string (nullable = true)\n",
            " |-- Zipcode: integer (nullable = true)\n",
            " |-- Battalion: string (nullable = true)\n",
            " |-- StationArea: string (nullable = true)\n",
            " |-- Box: string (nullable = true)\n",
            " |-- OriginalPriority: string (nullable = true)\n",
            " |-- Priority: string (nullable = true)\n",
            " |-- FinalPriority: integer (nullable = true)\n",
            " |-- ALSUnit: boolean (nullable = true)\n",
            " |-- CallTypeGroup: string (nullable = true)\n",
            " |-- NumAlarms: integer (nullable = true)\n",
            " |-- UnitType: string (nullable = true)\n",
            " |-- UnitSequenceInCallDispatch: integer (nullable = true)\n",
            " |-- FirePreventionDistrict: string (nullable = true)\n",
            " |-- SupervisorDistrict: string (nullable = true)\n",
            " |-- Neighborhood: string (nullable = true)\n",
            " |-- Location: string (nullable = true)\n",
            " |-- RowID: string (nullable = true)\n",
            " |-- Delay: float (nullable = true)\n",
            " |-- Unit: string (nullable = false)\n",
            "\n"
          ]
        }
      ]
    },
    {
      "cell_type": "code",
      "source": [],
      "metadata": {
        "id": "zZGxEu-f3J3B"
      },
      "execution_count": null,
      "outputs": []
    }
  ]
}