{
  "cells": [
    {
      "cell_type": "markdown",
      "metadata": {
        "id": "view-in-github",
        "colab_type": "text"
      },
      "source": [
        "<a href=\"https://colab.research.google.com/github/positivezenart/positivezenart/blob/main/Python_Assignment.ipynb\" target=\"_parent\"><img src=\"https://colab.research.google.com/assets/colab-badge.svg\" alt=\"Open In Colab\"/></a>"
      ]
    },
    {
      "cell_type": "markdown",
      "metadata": {
        "id": "l0ZzOlyxB-kf"
      },
      "source": [
        "<h1>Python: without numpy or sklearn </h1>"
      ]
    },
    {
      "cell_type": "markdown",
      "metadata": {
        "id": "C0xO8JV9B-ki"
      },
      "source": [
        "<h3> Q1: Given two matrices please print the product of those two matrices </h3>\n",
        "<pre>\n",
        "\n",
        "Ex 1: A   = [[1 3 4]\n",
        "             [2 5 7]\n",
        "             [5 9 6]]\n",
        "      B   = [[1 0 0]\n",
        "             [0 1 0]\n",
        "             [0 0 1]]\n",
        "      A*B = [[1 3 4]\n",
        "             [2 5 7]\n",
        "             [5 9 6]]\n",
        "\n",
        "     \n",
        "Ex 2: A   = [[1 2]\n",
        "             [3 4]]\n",
        "      B   = [[1 2 3 4 5]\n",
        "             [5 6 7 8 9]]\n",
        "      A*B = [[11 14 17 20 23]\n",
        "             [23 30 37 44 51]]\n",
        "             \n",
        "Ex 3: A   = [[1 2]\n",
        "             [3 4]]\n",
        "      B   = [[1 4]\n",
        "             [5 6]\n",
        "             [7 8]\n",
        "             [9 6]]\n",
        "      A*B =Not possible\n",
        "</pre>"
      ]
    },
    {
      "cell_type": "code",
      "execution_count": null,
      "metadata": {
        "colab": {
          "base_uri": "https://localhost:8080/"
        },
        "id": "rnssAfpgB-kj",
        "outputId": "e32b9569-c58b-430b-a564-6b20c6e6d2c2"
      },
      "outputs": [
        {
          "name": "stdout",
          "output_type": "stream",
          "text": [
            "Enter order of 1st matrix:\n",
            "2 3\n",
            "Enter Row wise values\n",
            "Enter row 0 value:\n",
            "2 1 3\n",
            "Enter row 1 value:\n",
            "2 1 4\n",
            "Enter order of 2nd matrix:\n",
            "2 3\n",
            "Enter Row wise values\n",
            "Enter row 0 value:\n",
            "2 1 5\n",
            "Enter row 1 value:\n",
            "3 2 6\n",
            "Matrix 1: [[2, 1, 3], [2, 1, 4]]\n",
            "Matrix 2: [[2, 1, 5], [3, 2, 6]]\n",
            "Matrix is not possible\n"
          ]
        }
      ],
      "source": [
        "# write your python code here\n",
        "# you can take the above example as sample input for your program to test\n",
        "# it should work for any general input try not to hard code for only given input examples\n",
        "# you can take matrix input from user or you can directly define the matrix and give input to the function\n",
        "# reference for creating input - https://stackoverflow.com/questions/12293208/how-to-create-a-list-of-lists\n",
        "\n",
        "# you can free to change all these codes/structure\n",
        "# here A and B are list of lists\n",
        "def matrix_mul(A, B):\n",
        "    # write your code\n",
        "    # write your code\n",
        "    num_col_a = len(A[0])\n",
        "    num_rows_b = len(B)\n",
        "\n",
        "    result = [[0 for _ in range(len(B[0]))] for _ in range(len(A))]\n",
        "  \n",
        "    if num_col_a == num_rows_b:\n",
        "      for i in range (len(A)):\n",
        "        for j in range (len(B[0])):\n",
        "          for k in range (len(B)):\n",
        "              result[i][j] += A[i][k]*B[k][j]\n",
        "\n",
        "     # for p in result:\n",
        "        #  print(\"Matrix multiplication is possible\")\n",
        "          #print(p)\n",
        "      return result\n",
        "         \n",
        "    else:\n",
        "      print(\"Matrix is not possible\")\n",
        "\n",
        "print(\"Enter order of 1st matrix:\")\n",
        "m,n = list(map(int,input().split()))\n",
        "\n",
        "print(\"Enter Row wise values\")\n",
        "mat1 = []\n",
        "\n",
        "for i in range(m) :\n",
        "    print(\"Enter row\",i,\"value:\")\n",
        "    row = list(map(int,input().split()))\n",
        "    mat1.append(row)\n",
        " \n",
        "print(\"Enter order of 2nd matrix:\")\n",
        "p,q = list(map(int,input().split()))\n",
        " \n",
        "print(\"Enter Row wise values\")\n",
        "mat2 = []\n",
        " \n",
        "# row wise insertion in the matrix\n",
        "for j in range(p) :\n",
        "    print(\"Enter row\",j,\"value:\")\n",
        "    row = list(map(int,input().split()))\n",
        "    mat2.append(row)\n",
        "\n",
        "print(\"Matrix 1:\",mat1)\n",
        "print(\"Matrix 2:\",mat2)\n",
        "  \n",
        "A=mat1\n",
        "B= mat2\n",
        "    \n",
        "matrix_mul(A, B)"
      ]
    },
    {
      "cell_type": "code",
      "source": [
        "#2nd method\n",
        "\n",
        "def matrix_mul(A, B):\n",
        "\n",
        "    num_col_a = len(A[0])\n",
        "    num_rows_b = len(B)\n",
        "\n",
        "    result = [[0 for _ in range(len(B[0]))] for _ in range(len(A))]\n",
        "\n",
        "    if num_col_a == num_rows_b:\n",
        "      for i in range (len(A)):\n",
        "        for j in range (len(B[0])):\n",
        "          for k in range (len(B)):\n",
        "              result[i][j] += A[i][k]*B[k][j]\n",
        "\n",
        "      return result\n",
        "\n",
        "    else:\n",
        "\n",
        "      print(\"Matrix is not possible\")\n",
        "\n",
        "     \n",
        "\n",
        "A = [[1, 3, 4],\n",
        "     [2, 5, 7],\n",
        "     [5, 9, 6]]\n",
        "\n",
        "B = [[1, 0, 0],\n",
        "     [0, 1, 0],\n",
        "     [0, 0, 1]]\n",
        "C = [[1, 3, 4], [5, 9, 6]]\n",
        "\n",
        "D = [[1, 0, 0], [0, 0, 1]]\n",
        "      \n",
        "\n",
        "print(matrix_mul(A, B))\n",
        "print(matrix_mul(C,D))\n",
        "  \n"
      ],
      "metadata": {
        "colab": {
          "base_uri": "https://localhost:8080/"
        },
        "id": "LpCNxgqpAwla",
        "outputId": "e19a45d1-40ee-404d-aaca-182dd7ceda1f"
      },
      "execution_count": null,
      "outputs": [
        {
          "output_type": "stream",
          "name": "stdout",
          "text": [
            "[[1, 3, 4], [2, 5, 7], [5, 9, 6]]\n",
            "Matrix is not possible\n",
            "None\n"
          ]
        }
      ]
    },
    {
      "cell_type": "markdown",
      "metadata": {
        "id": "at4VwLggB-kn"
      },
      "source": [
        "<h3> Q2: Proportional Sampling - Select a number randomly with probability proportional to its magnitude from the given array of n elements</h3>\n",
        "\n",
        "Consider an experiment, selecting an element from the list A randomly with probability proportional to its magnitude.\n",
        "assume we are doing the same experiment for 100 times with replacement, in each experiment you will print a number that is selected randomly from A.\n",
        "\n",
        "<pre>\n",
        "Ex 1: A = [0 5 27 6 13 28 100 45 10 79]\n",
        "let f(x) denote the number of times x getting selected in 100 experiments.\n",
        "f(100) > f(79) > f(45) > f(28) > f(27) > f(13) > f(10) > f(6) > f(5) > f(0)\n",
        "</pre>"
      ]
    },
    {
      "cell_type": "code",
      "execution_count": null,
      "metadata": {
        "id": "B6S2dpBhB-kn",
        "colab": {
          "base_uri": "https://localhost:8080/"
        },
        "outputId": "5013335d-67ec-4538-c889-423b0e25edcf"
      },
      "outputs": [
        {
          "output_type": "stream",
          "name": "stdout",
          "text": [
            "[79, 100, 79, 100, 100, 45, 27, 100, 45, 100, 79, 100, 100, 100, 100, 45, 10, 100, 45, 79, 100, 79, 100, 100, 45, 100, 100, 28, 79, 13, 79, 100, 13, 10, 27, 100, 100, 45, 6, 100, 100, 79, 13, 100, 79, 79, 100, 100, 45, 10, 100, 28, 28, 79, 100, 6, 5, 100, 100, 6, 45, 10, 100, 100, 45, 79, 10, 100, 28, 45, 45, 28, 79, 100, 10, 10, 79, 28, 100, 100, 45, 28, 100, 79, 100, 6, 79, 79, 100, 45, 100, 79, 79, 45, 100, 45, 79, 100, 79]\n",
            "Number:0,Frquency:0\n",
            "Number:5,Frquency:1\n",
            "Number:6,Frquency:4\n",
            "Number:10,Frquency:7\n",
            "Number:13,Frquency:3\n",
            "Number:27,Frquency:2\n",
            "Number:28,Frquency:7\n",
            "Number:45,Frquency:15\n",
            "Number:79,Frquency:21\n",
            "Number:100,Frquency:39\n"
          ]
        }
      ],
      "source": [
        "import random\n",
        "from random import uniform\n",
        "import math\n",
        "# write your python code here\n",
        "# you can take the above example as sample input for your program to test\n",
        "# it should work for any general input try not to hard code for only given input examples\n",
        "\n",
        "#video link for the topic - https://www.appliedaicourse.com/lecture/11/applied-machine-learning-online-course/2876/proportional-sampling/2/module-2-data-science-exploratory-data-analysis-and-data-visualization\n",
        "# you can free to change all these codes/structure\n",
        "\n",
        "A = [0, 5, 27, 6, 13, 28, 100, 45, 10, 79]\n",
        "\n",
        "\n",
        "#Step 1\n",
        "\n",
        "#a) Sum of all elements in the list\n",
        "S= sum(A)\n",
        "#b) Normalizaing using the sum\n",
        "normalized_sum = [ele/S for ele in A]\n",
        "#c) #Calculating cumulative normalized sum\n",
        "cum_nor_sum = []\n",
        "cum_nor_sum.append(normalized_sum[0])\n",
        "for i in range(1,len(normalized_sum),1):\n",
        "    cum_nor_sum.append(cum_nor_sum[-1]+ normalized_sum[i])\n",
        "\n",
        "def pick_a_number_from_list(cum_norm_sum):\n",
        "    # your code here for picking an element from with the probability propotional to its magnitude\n",
        "\n",
        "    #Step 2: Sample one value from cum_nor_sum\n",
        "    r = random.random()\n",
        "    for i in range(len(cum_nor_sum)): #Step 3: Probablity sampling\n",
        "      if r < cum_nor_sum[i]: #checking if r<A[i]\n",
        "              return A[i]\n",
        "\n",
        "random_element=[]\n",
        "for i in range(1, 100):\n",
        "      random_element.append(pick_a_number_from_list(cum_nor_sum))\n",
        "print(random_element)\n",
        "       \n",
        "\n",
        "A=sorted(A)\n",
        "for ele in A:\n",
        "  print(\"Number:{0},Frquency:{1}\".format(ele,random_element.count(ele))) # checking the frequency of sampling\n",
        "\n"
      ]
    },
    {
      "cell_type": "markdown",
      "metadata": {
        "id": "D1xQy2WWB-kq"
      },
      "source": [
        "<h3> Q3: Replace the digits in the string with #</h3>\n",
        "\n",
        "consider a string that will have digits in that, we need to remove all the not digits and replace the digits with #\n",
        "<pre>\n",
        "Ex 1: A = 234                Output: ###\n",
        "Ex 2: A = a2b3c4             Output: ###\n",
        "Ex 3: A = abc                Output:   (empty string)\n",
        "Ex 5: A = #2a$#b%c%561#      Output: ####\n",
        "</pre>"
      ]
    },
    {
      "cell_type": "code",
      "execution_count": null,
      "metadata": {
        "colab": {
          "base_uri": "https://localhost:8080/"
        },
        "id": "fxczi2jzB-kr",
        "outputId": "a1587922-dd22-4c43-c91f-c647d84f33a8"
      },
      "outputs": [
        {
          "output_type": "stream",
          "name": "stdout",
          "text": [
            "Enter a string with digits\n",
            "567rtgc\n",
            "###\n"
          ]
        }
      ],
      "source": [
        "import re\n",
        "# write your python code here\n",
        "# you can take the above example as sample input for your program to test\n",
        "# it should work for any general input try not to hard code for only given input examples\n",
        "# try to complete this question using regular expressions\n",
        "# you can free to change all these codes/structure\n",
        "# String: it will be the input to your program\n",
        "def replace_digits(String):# Function to replace digits with\n",
        "    # write your code \n",
        "   return '#' * len(re.sub(r'\\D', '', String)) # modified string which is after replacing the # with digits\n",
        "\n",
        "String = str(input(\"Enter a string with digits\\n\")) #inputing the string\n",
        "print(replace_digits(String)) #printing the result"
      ]
    },
    {
      "cell_type": "markdown",
      "metadata": {
        "id": "j7h0Ywg7B-kw"
      },
      "source": [
        "<h3> Q4: Students marks dashboard</h3>\n",
        "\n",
        "consider the marks list of class students given two lists <br>\n",
        "Students = ['student1','student2','student3','student4','student5','student6','student7','student8','student9','student10'] <br>\n",
        "Marks = [45, 78, 12, 14, 48, 43, 45, 98, 22, 80] <br>\n",
        "from the above two lists the Student[0] got Marks[0],  Student[1] got Marks[1] and so on <br><br>\n",
        "your task is to print the name of students\n",
        "<strong>a. Who got top 5 ranks, in the descending order of marks</strong> <br>\n",
        "<strong>b. Who got least 5 ranks, in the increasing order of marks</strong><br>\n",
        "<strong>d. Who got marks between  &gt;25th percentile &lt;75th percentile, in the increasing order of marks</strong>\n",
        "\n",
        "<pre>\n",
        "Ex 1: \n",
        "Students=['student1','student2','student3','student4','student5','student6','student7','student8','student9','student10'] \n",
        "Marks = [45, 78, 12, 14, 48, 43, 47, 98, 22, 80]\n",
        "a. \n",
        "student8  98\n",
        "student10 80\n",
        "student2  78\n",
        "student5  48\n",
        "student7  47\n",
        "b.\n",
        "student3 12\n",
        "student4 14\n",
        "student9 22\n",
        "student6 43\n",
        "student1 45\n",
        "c.\n",
        "student9 22\n",
        "student6 43\n",
        "student1 45\n",
        "student7 47\n",
        "student5 48\n",
        "</pre>"
      ]
    },
    {
      "cell_type": "code",
      "execution_count": null,
      "metadata": {
        "colab": {
          "base_uri": "https://localhost:8080/"
        },
        "id": "cxPJgItsB-kx",
        "outputId": "eca7a139-02f4-4e72-9ac3-add5af4bf397"
      },
      "outputs": [
        {
          "output_type": "stream",
          "name": "stdout",
          "text": [
            "[('student3', 12), ('student4', 14), ('student9', 22), ('student6', 43), ('student1', 45), ('student7', 47), ('student5', 48), ('student2', 78), ('student10', 80), ('student8', 98)]\n",
            "Top 5 students based on highest marks\n",
            ":[('student8', 98), ('student10', 80), ('student2', 78), ('student5', 48), ('student7', 47)]\n",
            "least 5 students based on highest marks\n",
            ":[('student3', 12), ('student4', 14), ('student9', 22), ('student6', 43), ('student1', 45)]\n",
            "Students within 25th and 75th percentile\n",
            ":[('student6', 43), ('student1', 45), ('student7', 47), ('student5', 48)]\n"
          ]
        }
      ],
      "source": [
        "# write your python code here\n",
        "# you can take the above example as sample input for your program to test\n",
        "# it should work for any general input try not to hard code for only given input examples\n",
        "import math\n",
        "# you can free to change all these codes/structure\n",
        "def display_dash_board(students, marks):\n",
        "    Marks_of_Students = list(zip(Students, Marks)) #Zipping elements to create a list of tuples\n",
        "    Marks_of_Students.sort(key= lambda item: item[1]) #Sorting elements in ascending order\n",
        "    print((Marks_of_Students))\n",
        "    \n",
        "    top_5_students = least_5_students = Marks_of_Students\n",
        "    if len(Marks_of_Students)>5:\n",
        "      # write code for computing top top 5 students\n",
        "      top_5_students = Marks_of_Students[:-6: -1] #Slicing and reversing an element\n",
        "      # write code for computing top least 5 students\n",
        "      least_5_students =Marks_of_Students[:5] #displaying first 5 scores,\n",
        "      # write code for computing top least 5 students\n",
        "      students_within_25_and_75 = Marks_of_Students[math.ceil(0.25 *len(Marks_of_Students)):math.floor(0.75 * len(Marks_of_Students))]\n",
        "    \n",
        "    return top_5_students, least_5_students, students_within_25_and_75\n",
        "\n",
        "Students=['student1','student2','student3','student4','student5','student6','student7','student8','student9','student10'] \n",
        "Marks = [45, 78, 12, 14, 48, 43, 47, 98, 22, 80]\n",
        "\n",
        "top_5_students, least_5_students, students_within_25_and_75 = display_dash_board(Students, Marks)\n",
        "print(f\"Top 5 students based on highest marks\\n:{top_5_students}\")\n",
        "print(f\"least 5 students based on highest marks\\n:{least_5_students}\")\n",
        "print(f\"Students within 25th and 75th percentile\\n:{students_within_25_and_75}\")"
      ]
    },
    {
      "cell_type": "markdown",
      "metadata": {
        "id": "qha0OhQHB-k1"
      },
      "source": [
        "<h3> Q5: Find the closest points</h3>\n",
        "\n",
        "Consider you have given n data points in the form of list of tuples like S=[(x1,y1),(x2,y2),(x3,y3),(x4,y4),(x5,y5),..,(xn,yn)] and a point P=(p,q) <br> Your task is to find 5 closest points(based on cosine distance) in S from P\n",
        "<br>Cosine distance between two points (x,y) and (p,q) is defind as $cos^{-1}(\\frac{(x\\cdot p+y\\cdot q)}{\\sqrt(x^2+y^2)\\cdot\\sqrt(p^2+q^2)})$\n",
        "<pre>\n",
        "Ex:\n",
        "\n",
        "S= [(1,2),(3,4),(-1,1),(6,-7),(0, 6),(-5,-8),(-1,-1),(6,0),(1,-1)]\n",
        "P= (3,-4)\n",
        "\n",
        "<img src='https://i.imgur.com/vyZZQGu.png' width=400>\n",
        "\n",
        "Output:\n",
        "(6,-7)\n",
        "(1,-1)\n",
        "(6,0)\n",
        "(-5,-8)\n",
        "(-1,-1)\n",
        "</pre>\n",
        " Hint - If you write the formula correctly you'll get the distance between points (6,-7) and (3,-4) = 0.065"
      ]
    },
    {
      "cell_type": "code",
      "execution_count": null,
      "metadata": {
        "id": "wA5I1g-2B-k2",
        "colab": {
          "base_uri": "https://localhost:8080/"
        },
        "outputId": "f54045a6-cd9d-487d-c64d-2ba34e3786a8"
      },
      "outputs": [
        {
          "output_type": "stream",
          "name": "stdout",
          "text": [
            "5 closest points(based on cosine distance) in S from P:[(6, -7), (1, -1), (6, 0), (-5, -8), (-1, -1)]\n"
          ]
        }
      ],
      "source": [
        "import math\n",
        "\n",
        "# write your python code here\n",
        "# you can take the above example as sample input for your program to test\n",
        "# it should work for any general input try not to hard code for only given input examples\n",
        "# you can free to change all these codes/structure\n",
        "\n",
        "\n",
        "# here S is list of tuples and P is a tuple ot len=2\n",
        "def closest_points_to_p(S, P):\n",
        "    # write your code here\n",
        "    total_list_of_closest_points_to_p =[]\n",
        "    Sorted_closest_to_p = []\n",
        "\n",
        "    for point in S:\n",
        "\n",
        "# Calculating denomiator and nominator to find cosine distance\n",
        "\n",
        "      denominator = math.sqrt((point[0] ** 2) + (point[1] ** 2)) * math.sqrt((P[0] ** 2) + (P[1] ** 2))\n",
        "      numerator = point[0] *P[0] + point[1] * P[1]\n",
        "\n",
        "      \n",
        "#Calculating cosine distance between two points\n",
        "\n",
        "      if denominator != 0:\n",
        "        cosine_distance = math.acos(numerator/denominator) # calculating cosine distance\n",
        "        total_list_of_closest_points_to_p.append((cosine_distance,point)) # appending values\n",
        "\n",
        "#[(2.0344439357957027, (1, 2)), (1.8545904360032246, (3, 4)), (2.9996955989856287, (-1, 1)), (0.06512516333438509, (6, -7)), (2.498091544796509, (0, 6)), (1.2021004241368467, (-5, -8)), (1.4288992721907328, (-1, -1)), (0.9272952180016123, (6, 0)), (0.14189705460416438, (1, -1))]\n",
        "#print(total_list_of_closest_points_to_p)\n",
        "\n",
        "    for item in sorted(total_list_of_closest_points_to_p,key=lambda x:x[0])[:5]: #looping through sorted items\n",
        "\n",
        "#Sorting values based on cosine distance, But choosing data points{item[1]} instead of cosine distance[item{0}]\n",
        "        Sorted_closest_to_p.append(item[1]) \n",
        "\n",
        "    return Sorted_closest_to_p # its list of tuples\n",
        "\n",
        "S= [(1,2),(3,4),(-1,1),(6,-7),(0, 6),(-5,-8),(-1,-1),(6,0),(1,-1)]\n",
        "P= (3,-4)\n",
        "points = closest_points_to_p(S, P) # Calling function\n",
        "print(f\"5 closest points(based on cosine distance) in S from P:{points}\" ) #print the returned values"
      ]
    },
    {
      "cell_type": "markdown",
      "metadata": {
        "id": "-g11jeAiB-k5"
      },
      "source": [
        "<h3> Q6: Find Which line separates oranges and apples</h3>\n",
        "consider you have given two set of data points in the form of list of tuples like \n",
        "<pre>\n",
        "Red =[(R11,R12),(R21,R22),(R31,R32),(R41,R42),(R51,R52),..,(Rn1,Rn2)]\n",
        "Blue=[(B11,B12),(B21,B22),(B31,B32),(B41,B42),(B51,B52),..,(Bm1,Bm2)]\n",
        "</pre>\n",
        "and set of line equations(in the string formate, i.e list of strings)\n",
        "<pre>\n",
        "Lines = [a1x+b1y+c1,a2x+b2y+c2,a3x+b3y+c3,a4x+b4y+c4,..,K lines]\n",
        "Note: you need to string parsing here and get the coefficients of x,y and intercept\n",
        "</pre>\n",
        "your task is to for each line that is given print \"YES\"/\"NO\", you will print yes, if all the red points are one side of the line and blue points are other side of the line, otherwise no\n",
        "<pre>\n",
        "Ex:\n",
        "Red= [(1,1),(2,1),(4,2),(2,4), (-1,4)]\n",
        "Blue= [(-2,-1),(-1,-2),(-3,-2),(-3,-1),(1,-3)]\n",
        "Lines=[\"1x+1y+0\",\"1x-1y+0\",\"1x+0y-3\",\"0x+1y-0.5\"]\n",
        "<img src='https://i.imgur.com/mSnQW5K.png' width=400>\n",
        "\n",
        "Output:\n",
        "YES\n",
        "NO\n",
        "NO\n",
        "YES\n",
        "</pre>"
      ]
    },
    {
      "cell_type": "code",
      "execution_count": null,
      "metadata": {
        "colab": {
          "base_uri": "https://localhost:8080/"
        },
        "id": "eRxExaTRB-k6",
        "outputId": "c3451bf7-82e6-43cd-e4e5-ad90b5f479d7"
      },
      "outputs": [
        {
          "output_type": "stream",
          "name": "stdout",
          "text": [
            "A line that separates oranges and apples:\n",
            "Yes\n",
            "No\n",
            "No\n",
            "Yes\n"
          ]
        }
      ],
      "source": [
        "import math\n",
        "# write your python code here\n",
        "# you can take the above example as sample input for your program to test\n",
        "# it should work for any general input try not to hard code for only given input strings\n",
        "\n",
        "\n",
        "# you can free to change all these codes/structure\n",
        "def i_am_the_one(red,blue,line):\n",
        "    # your code\n",
        "    sign_of_equation_with_red_points = -1 #Vairbale\n",
        "\n",
        "    # Taking first red tuple, applying into ax+by+c equation to test if the evaluated value> 0\n",
        "\n",
        "    if eval(line.replace('x', '*%s' % red[0][0]).replace('y', '*%s' % red[0][1])) > 0: \n",
        "        sign_of_equation_with_red_points = 1\n",
        "\n",
        "    for red_point in red:\n",
        "\n",
        "      # To checking if the both condition evaulte to be true, if it evaluated to be true, single point is on the other side of the Line Equation\n",
        "\n",
        "        if sign_of_equation_with_red_points == -1 and eval(line.replace('x','*%s' % red_point[0]).replace('y','*%s' % red_point[1]))>0:\n",
        "\n",
        "          return \"No\"\n",
        "      # To checking if the both condition evaulte to be true, if it evaluated to be true, single point is on the other side of the Line Equation\n",
        "\n",
        "        if sign_of_equation_with_red_points == 1 and eval(line.replace('x','*%s' % red_point[0]).replace('y','*%s' % red_point[1]))<0:\n",
        "\n",
        "          return \"No\"\n",
        "\n",
        "    #Now for blue points\n",
        "\n",
        "    sign_of_equation_with_blue_points = -1 * sign_of_equation_with_red_points\n",
        "\n",
        "\n",
        "    for blue_point in blue: \n",
        "\n",
        "      # To checking if the both condition evaulte to be true, if it evaluated to be true, single point is on the other side of the Line Equation\n",
        "\n",
        "        if sign_of_equation_with_blue_points == -1 and eval(line.replace('x', '*%s' % blue_point[0]).replace('y', '*%s' % blue_point[1])) > 0:\n",
        "\n",
        "          return 'NO'\n",
        "\n",
        "      # To checking if the both condition evaulte to be true, if it evaluated to be true, single point is on the other side of the Line Equation\n",
        "\n",
        "        if sign_of_equation_with_blue_points == 1 and eval(line.replace('x','*%s' % blue_point[0])).replace('y','*%s' % blue_point[1])<0:\n",
        "\n",
        "          return 'NO'\n",
        "\n",
        "    #if none of the steps returns no, ed points are one side of the line and blue points are other side of the line\n",
        "      \n",
        "    return 'Yes'\n",
        "\n",
        "Red= [(1,1),(2,1),(4,2),(2,4), (-1,4)]\n",
        "Blue= [(-2,-1),(-1,-2),(-3,-2),(-3,-1),(1,-3)]\n",
        "Lines=[\"1x+1y+0\",\"1x-1y+0\",\"1x+0y-3\",\"0x+1y-0.5\"]\n",
        "\n",
        "print(\"A line that separates oranges and apples:\")\n",
        "\n",
        "for i in Lines:\n",
        "    yes_or_no = i_am_the_one(Red, Blue, i)\n",
        "    print(yes_or_no) # the returned value"
      ]
    },
    {
      "cell_type": "markdown",
      "metadata": {
        "id": "9OBpURbNB-k9"
      },
      "source": [
        "<h3> Q7: Filling the missing values in the specified formate</h3>\n",
        "You will be given a string with digits and '\\_'(missing value) symbols you have to replace the '\\_' symbols as explained \n",
        "<pre>\n",
        "Ex 1: _, _, _, 24 ==> 24/4, 24/4, 24/4, 24/4 i.e we. have distributed the 24 equally to all 4 places <br>\n",
        "Ex 2: 40, _, _, _, 60 ==> (60+40)/5,(60+40)/5,(60+40)/5,(60+40)/5,(60+40)/5 ==> 20, 20, 20, 20, 20 i.e. the sum of (60+40) is distributed qually to all 5 places<br>\n",
        "Ex 3: 80, _, _, _, _  ==> 80/5,80/5,80/5,80/5,80/5 ==> 16, 16, 16, 16, 16 i.e. the 80 is distributed qually to all 5 missing values that are right to it<br>\n",
        "Ex 4: _, _, 30, _, _, _, 50, _, _  \n",
        "==> we will fill the missing values from left to right \n",
        "    a. first we will distribute the 30 to left two missing values (10, 10, 10, _, _, _, 50, _, _)\n",
        "    b. now distribute the sum (10+50) missing values in between (10, 10, 12, 12, 12, 12, 12, _, _) \n",
        "    c. now we will distribute 12 to right side missing values (10, 10, 12, 12, 12, 12, 4, 4, 4)\n",
        "</pre>\n",
        "for a given string with comma seprate values, which will have both missing values numbers like ex: \"_, _, x, _, _, _\"\n",
        "you need fill the missing values\n",
        "\n",
        "Q: your program reads a string like ex: \"_, _, x, _, _, _\" and returns the filled sequence\n",
        "\n",
        "Ex: \n",
        "<pre>\n",
        "Input1: \"_,_,_,24\"\n",
        "Output1: 6,6,6,6\n",
        "\n",
        "Input2: \"40,_,_,_,60\"\n",
        "Output2: 20,20,20,20,20\n",
        "\n",
        "Input3: \"80,_,_,_,_\"\n",
        "Output3: 16,16,16,16,16\n",
        "\n",
        "Input4: \"_,_,30,_,_,_,50,_,_\"\n",
        "Output4: 10,10,12,12,12,12,4,4,4\n",
        "\n",
        "</pre>\n",
        "\n"
      ]
    },
    {
      "cell_type": "code",
      "execution_count": null,
      "metadata": {
        "colab": {
          "base_uri": "https://localhost:8080/"
        },
        "id": "nZmpzHs_B-k-",
        "outputId": "4604868c-d1bb-4d09-ad71-a64d142c27b2"
      },
      "outputs": [
        {
          "output_type": "stream",
          "name": "stdout",
          "text": [
            "['_', '_', '30', '_', '_', '_', '50', '_', '_']\n",
            "[2, 6, 8]\n",
            "[10, 10, 12, 12, 12, 12, 4, 4, 4]\n"
          ]
        }
      ],
      "source": [
        "# write your python code here\n",
        "# you can take the above example as sample input for your program to test\n",
        "# it should work for any general input try not to hard code for only given input strings\n",
        "#run your code in the function for each of the inputs mentioned above and make sure that you get the same results\n",
        "\n",
        "# you can free to change all these codes/structure\n",
        "def curve_smoothing(string):\n",
        "    # your code\n",
        "    non_empty_list = [] # Creating an empty non empty list\n",
        "    string_split = string.split(',') # split the string by \",\"\n",
        "    print(string_split)\n",
        "\n",
        "    for i in range(len(string_split)):\n",
        "      if string_split[i] != '_':\n",
        "        non_empty_list.append(i)\n",
        "\n",
        "    non_empty_list.append(len(string_split)-1)\n",
        "    print(non_empty_list)\n",
        "\n",
        "    start_position = 0\n",
        "\n",
        "    for element in non_empty_list: #looping through non empty elemetns\n",
        "\n",
        "      cumulative_sum_prev_and_next_value = int(string_split[element]) if string_split[element] != '_' else 0 \n",
        "      cumulative_sum_prev_and_next_value += int(string_split[start_position]) if string_split[\n",
        "    start_position] != '_' and start_position != element else 0\n",
        "\n",
        "      int_to_replace_each_previous_empty_cell = cumulative_sum_prev_and_next_value //(element -start_position+ 1) # calculating integer replacing value\n",
        "\n",
        "      string_split = [\n",
        "            int_to_replace_each_previous_empty_cell if start_position <= x <= element else string_split[x] for x\n",
        "            in range(len(string_split))]\n",
        "\n",
        "      start_position = element\n",
        "\n",
        "    return string_split #list of values\n",
        "\n",
        "S= \"_,_,30,_,_,_,50,_,_\"\n",
        "smoothed_values= curve_smoothing(S)\n",
        "print(smoothed_values)"
      ]
    },
    {
      "cell_type": "markdown",
      "metadata": {
        "id": "RBz4pzlfB-lB"
      },
      "source": [
        "<h3> Q8: Filling the missing values in the specified formate</h3>\n",
        "You will be given a list of lists, each sublist will be of length 2 i.e. [[x,y],[p,q],[l,m]..[r,s]]\n",
        "consider its like a martrix of n rows and two columns\n",
        "1. the first column F will contain only 5 uniques values (F1, F2, F3, F4, F5)\n",
        "2. the second column S will contain only 3 uniques values (S1, S2, S3)\n",
        "<pre>\n",
        "your task is to find\n",
        "a. Probability of P(F=F1|S==S1), P(F=F1|S==S2), P(F=F1|S==S3)\n",
        "b. Probability of P(F=F2|S==S1), P(F=F2|S==S2), P(F=F2|S==S3)\n",
        "c. Probability of P(F=F3|S==S1), P(F=F3|S==S2), P(F=F3|S==S3)\n",
        "d. Probability of P(F=F4|S==S1), P(F=F4|S==S2), P(F=F4|S==S3)\n",
        "e. Probability of P(F=F5|S==S1), P(F=F5|S==S2), P(F=F5|S==S3)\n",
        "</pre>\n",
        "Ex:\n",
        "\n",
        "<pre>\n",
        "[[F1,S1],[F2,S2],[F3,S3],[F1,S2],[F2,S3],[F3,S2],[F2,S1],[F4,S1],[F4,S3],[F5,S1]]\n",
        "\n",
        "a. P(F=F1|S==S1)=1/4, P(F=F1|S==S2)=1/3, P(F=F1|S==S3)=0/3\n",
        "b. P(F=F2|S==S1)=1/4, P(F=F2|S==S2)=1/3, P(F=F2|S==S3)=1/3\n",
        "c. P(F=F3|S==S1)=0/4, P(F=F3|S==S2)=1/3, P(F=F3|S==S3)=1/3\n",
        "d. P(F=F4|S==S1)=1/4, P(F=F4|S==S2)=0/3, P(F=F4|S==S3)=1/3\n",
        "e. P(F=F5|S==S1)=1/4, P(F=F5|S==S2)=0/3, P(F=F5|S==S3)=0/3\n",
        "</pre>\n",
        "\n",
        "\n"
      ]
    },
    {
      "cell_type": "code",
      "execution_count": null,
      "metadata": {
        "id": "e-1giz1MB-lC",
        "colab": {
          "base_uri": "https://localhost:8080/"
        },
        "outputId": "586c5393-e841-4bfc-e9f7-bf6faf1b8a49"
      },
      "outputs": [
        {
          "output_type": "stream",
          "name": "stdout",
          "text": [
            "a. P(F=F1|S==S1)=1/4, P(F=F1|S==S2)=1/3, P(F=F1|S==S3)=0/3\n",
            "b. P(F=F2|S==S1)=1/4, P(F=F2|S==S2)=1/3, P(F=F2|S==S3)=1/3\n",
            "c. P(F=F3|S==S1)=0/4, P(F=F3|S==S2)=1/3, P(F=F3|S==S3)=1/3\n",
            "d. P(F=F4|S==S1)=1/4, P(F=F4|S==S2)=0/3, P(F=F4|S==S3)=1/3\n",
            "e. P(F=F5|S==S1)=1/4, P(F=F5|S==S2)=0/3, P(F=F5|S==S3)=0/3\n"
          ]
        }
      ],
      "source": [
        "# write your python code here\n",
        "# you can take the above example as sample input for your program to test\n",
        "# it should work for any general input try not to hard code for only given input strings. Do not write 15 print statements.\n",
        "# you can use nested loops or dictionaries to write your code\n",
        "\n",
        "\n",
        "# you can free to change all these codes/structure\n",
        "def compute_conditional_probabilites(A):\n",
        "    # your code\n",
        "     dict_f_intersect_s = dict()\n",
        "\n",
        "     for list_of_item in A:\n",
        "         dict_key = str(list_of_item[0]) + str (list_of_item[1]) #(Concatinating F and S values to make it as key )\n",
        "         dict_f_intersect_s[dict_key] = 0 # Assigning value to key\n",
        "\n",
        "    #print(dict_f_intersect_s)({'F1S1': 0, 'F2S2': 0, 'F3S3': 0, 'F1S2': 0, 'F2S3': 0, 'F3S2': 0, 'F2S1': 0, 'F4S1': 0, 'F4S3': 0, 'F5S1': 0})\n",
        "\n",
        "     dict_s = {'S1': 0, 'S2': 0, 'S3': 0}\n",
        "\n",
        "     for i in range(len(A)):\n",
        "        f_intersection_s_key = A[i][0] + A[i][1]  \n",
        "        dict_f_intersect_s[f_intersection_s_key] += 1 #Increasing the count whenever the certain combination of F and s occurs\n",
        "\n",
        "        s_key = A[i][1]\n",
        "        dict_s[s_key] += 1 #Increasing the count whenever the certain  s occurs\n",
        "\n",
        "\n",
        "        #print(dict_f_intersect_s)\n",
        "        #print(dict_s)\n",
        "\n",
        "     #Computing probablities and finding the values\n",
        "     \n",
        "     print('a. P(F=F1|S==S1)={F1S1}/{S1}, P(F=F1|S==S2)={F1S2}/{S2}, P(F=F1|S==S3)={F1S3}/{S3}'.format(\n",
        "                                                                                                          F1S1=dict_f_intersect_s.get(\n",
        "                                                                                                              'F1S1',\n",
        "                                                                                                              0), S1=\n",
        "                                                                                                          dict_s[\n",
        "                                                                                                              'S1'],\n",
        "                                                                                                          F1S2=dict_f_intersect_s.get(\n",
        "                                                                                                              'F1S2',\n",
        "                                                                                                              0), S2=\n",
        "                                                                                                          dict_s[\n",
        "                                                                                                              'S2'],\n",
        "                                                                                                          F1S3=dict_f_intersect_s.get(\n",
        "                                                                                                              'F1S3',\n",
        "                                                                                                              0), S3=\n",
        "                                                                                                          dict_s[\n",
        "                                                                                                              'S3']))\n",
        "     print('b. P(F=F2|S==S1)={F2S1}/{S1}, P(F=F2|S==S2)={F2S2}/{S2}, P(F=F2|S==S3)={F2S3}/{S3}'.format(\n",
        "                                                                                                          F2S1=dict_f_intersect_s.get(\n",
        "                                                                                                              'F2S1',\n",
        "                                                                                                              0), S1=\n",
        "                                                                                                          dict_s[\n",
        "                                                                                                              'S1'],\n",
        "                                                                                                          F2S2=dict_f_intersect_s.get(\n",
        "                                                                                                              'F2S2',\n",
        "                                                                                                              0), S2=\n",
        "                                                                                                          dict_s[\n",
        "                                                                                                              'S2'],\n",
        "                                                                                                          F2S3=dict_f_intersect_s.get(\n",
        "                                                                                                              'F2S3',\n",
        "                                                                                                              0), S3=\n",
        "                                                                                                          dict_s[\n",
        "                                                                                                              'S3']))\n",
        "\n",
        "     print('c. P(F=F3|S==S1)={F3S1}/{S1}, P(F=F3|S==S2)={F3S2}/{S2}, P(F=F3|S==S3)={F3S3}/{S3}'.format(\n",
        "                                                                                                          F3S1=dict_f_intersect_s.get(\n",
        "                                                                                                              'F3S1',\n",
        "                                                                                                              0), S1=\n",
        "                                                                                                          dict_s[\n",
        "                                                                                                              'S1'],\n",
        "                                                                                                          F3S2=dict_f_intersect_s.get(\n",
        "                                                                                                              'F3S2',\n",
        "                                                                                                              0), S2=\n",
        "                                                                                                          dict_s[\n",
        "                                                                                                              'S2'],\n",
        "                                                                                                          F3S3=dict_f_intersect_s.get(\n",
        "                                                                                                              'F3S3',\n",
        "                                                                                                              0), S3=\n",
        "                                                                                                          dict_s[\n",
        "                                                                                                              'S3']))\n",
        "\n",
        "     print('d. P(F=F4|S==S1)={F4S1}/{S1}, P(F=F4|S==S2)={F4S2}/{S2}, P(F=F4|S==S3)={F4S3}/{S3}'.format(\n",
        "                                                                                                          F4S1=dict_f_intersect_s.get(\n",
        "                                                                                                              'F4S1',\n",
        "                                                                                                              0), S1=\n",
        "                                                                                                          dict_s[\n",
        "                                                                                                              'S1'],\n",
        "                                                                                                          F4S2=dict_f_intersect_s.get(\n",
        "                                                                                                              'F4S2',\n",
        "                                                                                                              0), S2=\n",
        "                                                                                                          dict_s[\n",
        "                                                                                                              'S2'],\n",
        "                                                                                                          F4S3=dict_f_intersect_s.get(\n",
        "                                                                                                              'F4S3',\n",
        "                                                                                                              0), S3=\n",
        "                                                                                                          dict_s[\n",
        "                                                                                                              'S3']))\n",
        "\n",
        "     print('e. P(F=F5|S==S1)={F5S1}/{S1}, P(F=F5|S==S2)={F5S2}/{S2}, P(F=F5|S==S3)={F5S3}/{S3}'.format(\n",
        "                                                                                                          F5S1=dict_f_intersect_s.get(\n",
        "                                                                                                              'F5S1',\n",
        "                                                                                                              0), S1=\n",
        "                                                                                                          dict_s[\n",
        "                                                                                                              'S1'],\n",
        "                                                                                                          F5S2=dict_f_intersect_s.get(\n",
        "                                                                                                              'F5S2',\n",
        "                                                                                                              0), S2=\n",
        "                                                                                                          dict_s[\n",
        "                                                                                                              'S2'],\n",
        "                                                                                                          F5S3=dict_f_intersect_s.get(\n",
        "                                                                                                              'F5S3',\n",
        "                                                                                                              0), S3=\n",
        "                                                                                                          dict_s[\n",
        "                                                                                                              'S3']))\n",
        "\n",
        "    # print the output as per the instructions\n",
        "\n",
        "A = [['F1','S1'],['F2','S2'],['F3','S3'],['F1','S2'],['F2','S3'],['F3','S2'],['F2','S1'],['F4','S1'],['F4','S3'],['F5','S1']]\n",
        "\n",
        "compute_conditional_probabilites(A)"
      ]
    },
    {
      "cell_type": "markdown",
      "metadata": {
        "id": "n4HS87QmB-lF"
      },
      "source": [
        "<h3> Q9: Given two sentances S1, S2</h3>\n",
        "You will be given two sentances S1, S2 your task is to find \n",
        "<pre>\n",
        "a. Number of common words between S1, S2\n",
        "b. Words in S1 but not in S2\n",
        "c. Words in S2 but not in S1\n",
        "</pre>\n",
        "\n",
        "Ex: \n",
        "<pre>\n",
        "S1= \"the first column F will contain only 5 uniques values\"\n",
        "S2= \"the second column S will contain only 3 uniques values\"\n",
        "Output:\n",
        "a. 7\n",
        "b. ['first','F','5']\n",
        "c. ['second','S','3']\n",
        "</pre>"
      ]
    },
    {
      "cell_type": "code",
      "execution_count": null,
      "metadata": {
        "id": "Ez7hlHK0B-lG",
        "colab": {
          "base_uri": "https://localhost:8080/"
        },
        "outputId": "da42920f-85d5-45a8-b6a1-bceeaf51f502"
      },
      "outputs": [
        {
          "output_type": "stream",
          "name": "stdout",
          "text": [
            "{'first', 'will', 'column', 'F', 'values', 'only', 'uniques', '5', 'the', 'contain'}\n",
            "{'column', 'will', 'values', 'only', '3', 'uniques', 'second', 'the', 'S', 'contain'}\n",
            "a. Number of common words between S1, S2:7\n",
            "b.Words in S1 but not in S2:['first', 'F', '5']\n",
            "c.Words in S2 but not in S1:['3', 'second', 'S']\n"
          ]
        }
      ],
      "source": [
        "# write your python code here\n",
        "# you can take the above example as sample input for your program to test\n",
        "# it should work for any general input try not to hard code for only given input strings\n",
        "\n",
        "# you can free to change all these codes/structure\n",
        "def string_features(S1, S2):\n",
        "    # your code\n",
        "\n",
        "    S1_set_of_words = set(S1.split(\" \")) #Spliting the sentence into set of words\n",
        "    S2_set_of_words = set(S2.split(\" \"))\n",
        "\n",
        "    print(S1_set_of_words)\n",
        "    print(S2_set_of_words)\n",
        "\n",
        "    common_words= int(len(S1_set_of_words.intersection(S2_set_of_words))), #Calculating the length of common words\n",
        "    #print(common_words)({'column', 'will', 'only', 'the', 'uniques', 'contain', 'values'})\n",
        "    S1_not_in_s2 = list(S1_set_of_words - S2_set_of_words) #Words in S1 but not in S2\n",
        "    S2_not_in_s2 = list(S2_set_of_words - S1_set_of_words) #Words in S2 but not in S1\n",
        "\n",
        "    a = common_words \n",
        "    b = S1_not_in_s2\n",
        "    c=  S2_not_in_s2 \n",
        "\n",
        "    return a, b, c\n",
        "\n",
        "S1= \"the first column F will contain only 5 uniques values\"\n",
        "S2= \"the second column S will contain only 3 uniques values\"\n",
        "a,b,c = string_features(S1, S2)\n",
        "print(f\"a. Number of common words between S1, S2:{a[0]}\")\n",
        "print(f\"b.Words in S1 but not in S2:{b}\")\n",
        "print(f\"c.Words in S2 but not in S1:{c}\")"
      ]
    },
    {
      "cell_type": "markdown",
      "metadata": {
        "id": "XefXVEjCB-lI"
      },
      "source": [
        "<h3> Q10: Given two sentances S1, S2</h3>\n",
        "You will be given a list of lists, each sublist will be of length 2 i.e. [[x,y],[p,q],[l,m]..[r,s]]\n",
        "consider its like a martrix of n rows and two columns\n",
        "\n",
        "a. the first column Y will contain interger values <br>\n",
        "b. the second column $Y_{score}$ will be having float values <br>\n",
        "Your task is to find the value of $f(Y,Y_{score}) = -1*\\frac{1}{n}\\Sigma_{for each Y,Y_{score} pair}(Ylog10(Y_{score})+(1-Y)log10(1-Y_{score}))$ here n is the number of rows in the matrix\n",
        "<pre>\n",
        "Ex:\n",
        "[[1, 0.4], [0, 0.5], [0, 0.9], [0, 0.3], [0, 0.6], [1, 0.1], [1, 0.9], [1, 0.8]]\n",
        "output:\n",
        "0.4243099\n",
        "</pre>\n",
        "$\\frac{-1}{8}\\cdot((1\\cdot log_{10}(0.4)+0\\cdot log_{10}(0.6))+(0\\cdot log_{10}(0.5)+1\\cdot log_{10}(0.5)) + ... + (1\\cdot log_{10}(0.8)+0\\cdot log_{10}(0.2)) )$"
      ]
    },
    {
      "cell_type": "code",
      "execution_count": null,
      "metadata": {
        "id": "N9zkagyNB-lJ",
        "colab": {
          "base_uri": "https://localhost:8080/"
        },
        "outputId": "d5717274-745b-434e-f93a-3413bd0eac6c"
      },
      "outputs": [
        {
          "output_type": "stream",
          "name": "stdout",
          "text": [
            "0.42430993457031635\n"
          ]
        }
      ],
      "source": [
        "# write your python code here\n",
        "# you can take the above example as sample input for your program to test\n",
        "# it should work for any general input try not to hard code for only given input strings\n",
        "\n",
        "\n",
        "# you can free to change all these codes/structure\n",
        "from math import log\n",
        "\n",
        "def compute_log_loss(A):\n",
        "    # your code\n",
        "    Total_log_values =0\n",
        "    for ele in A:\n",
        "        Total_log_values += (\n",
        "            ele[0] * log(ele[1], 10) + (\n",
        "                (1 - ele[0]) * log(1- ele[1], 10)\n",
        "            )\n",
        "        )\n",
        "\n",
        "    loss = -1* Total_log_values /len(A)\n",
        "\n",
        "    return loss\n",
        "\n",
        "A = [[1, 0.4], [0, 0.5], [0, 0.9], [0, 0.3], [0, 0.6], [1, 0.1], [1, 0.9], [1, 0.8]]\n",
        "loss = compute_log_loss(A)\n",
        "print(loss)\n",
        "\n"
      ]
    }
  ],
  "metadata": {
    "colab": {
      "collapsed_sections": [],
      "name": " Python Assignment.ipynb",
      "provenance": [],
      "include_colab_link": true
    },
    "kernelspec": {
      "display_name": "Python 3",
      "language": "python",
      "name": "python3"
    },
    "language_info": {
      "codemirror_mode": {
        "name": "ipython",
        "version": 3
      },
      "file_extension": ".py",
      "mimetype": "text/x-python",
      "name": "python",
      "nbconvert_exporter": "python",
      "pygments_lexer": "ipython3",
      "version": "3.6.3"
    }
  },
  "nbformat": 4,
  "nbformat_minor": 0
}