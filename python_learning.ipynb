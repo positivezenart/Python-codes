{
  "nbformat": 4,
  "nbformat_minor": 0,
  "metadata": {
    "colab": {
      "name": "python.ipynb",
      "provenance": [],
      "collapsed_sections": [],
      "authorship_tag": "ABX9TyMbkn0cUSqVZERRd6Riisik",
      "include_colab_link": true
    },
    "kernelspec": {
      "name": "python3",
      "display_name": "Python 3"
    },
    "language_info": {
      "name": "python"
    }
  },
  "cells": [
    {
      "cell_type": "markdown",
      "metadata": {
        "id": "view-in-github",
        "colab_type": "text"
      },
      "source": [
        "<a href=\"https://colab.research.google.com/github/positivezenart/Python-codes/blob/main/python_learning.ipynb\" target=\"_parent\"><img src=\"https://colab.research.google.com/assets/colab-badge.svg\" alt=\"Open In Colab\"/></a>"
      ]
    },
    {
      "cell_type": "markdown",
      "source": [
        "**Python program to add two numbers**"
      ],
      "metadata": {
        "id": "97DaXX-65y3M"
      }
    },
    {
      "cell_type": "code",
      "execution_count": 3,
      "metadata": {
        "colab": {
          "base_uri": "https://localhost:8080/"
        },
        "id": "uWd8EVpE5m_c",
        "outputId": "7519181f-201f-4f0d-aa9b-7bc7a2a10ed0"
      },
      "outputs": [
        {
          "output_type": "stream",
          "name": "stdout",
          "text": [
            "Enter the first number?5\n",
            "Enter the second number?6\n",
            "Final sum value,11\n"
          ]
        }
      ],
      "source": [
        "num1 = int(input(\"Enter the first number?\"))\n",
        "num2= int(input(\"Enter the second number?\"))\n",
        "sum = num1+num2\n",
        "print(f\"Final sum value,{sum}\")"
      ]
    },
    {
      "cell_type": "markdown",
      "source": [
        "Maximum of two numbers in Python"
      ],
      "metadata": {
        "id": "tCbJI6T36oel"
      }
    },
    {
      "cell_type": "code",
      "source": [
        "num1 = int(input(\"Enter the first number?\"))\n",
        "num2= int(input(\"Enter the second number?\"))\n",
        "maximum = max(num1,num2)\n",
        "print(f\"Final sum value,{maximum}\")"
      ],
      "metadata": {
        "colab": {
          "base_uri": "https://localhost:8080/"
        },
        "id": "JIbP4alz6rnU",
        "outputId": "2a6ebe08-c827-4239-a239-687469a6f887"
      },
      "execution_count": 4,
      "outputs": [
        {
          "output_type": "stream",
          "name": "stdout",
          "text": [
            "Enter the first number?5\n",
            "Enter the second number?6\n",
            "Final sum value,6\n"
          ]
        }
      ]
    },
    {
      "cell_type": "markdown",
      "source": [
        "Python Program for factorial of a number"
      ],
      "metadata": {
        "id": "1zIbL2Cp7CfS"
      }
    },
    {
      "cell_type": "code",
      "source": [
        "def factorial(n):\n",
        "   return 1 if (n==1 or n == 0) else n* factorial(n-1) #ternary operator\n",
        "\n",
        "num = int(input(\"Enter the first number?\"))\n",
        "print(f\"factorial of {num} is : {factorial(num)} \")"
      ],
      "metadata": {
        "colab": {
          "base_uri": "https://localhost:8080/"
        },
        "id": "2FT261RK7DOD",
        "outputId": "5cc5da82-f0d8-4da6-86a9-1c83032f9e65"
      },
      "execution_count": 6,
      "outputs": [
        {
          "output_type": "stream",
          "name": "stdout",
          "text": [
            "Enter the first number?5\n",
            "factorial of 5 is : 120 \n"
          ]
        }
      ]
    },
    {
      "cell_type": "markdown",
      "source": [
        "Python Program for simple interest"
      ],
      "metadata": {
        "id": "F4DojNzS8HCe"
      }
    },
    {
      "cell_type": "code",
      "source": [
        "P = int(input(\"Enter the principal?\"))\n",
        "R = int(input(\"Enter the rate?\"))\n",
        "T= int(input(\"Enter the T\"))\n",
        "simple_interest = P*T*R/100\n",
        "print(f\"Simple interest is {simple_interest}\")"
      ],
      "metadata": {
        "colab": {
          "base_uri": "https://localhost:8080/"
        },
        "id": "rZTbKCa_8GLl",
        "outputId": "b13f99dc-f78c-4fc3-88a9-e517c3651a4f"
      },
      "execution_count": 8,
      "outputs": [
        {
          "output_type": "stream",
          "name": "stdout",
          "text": [
            "Enter the principal?1000\n",
            "Enter the rate?2\n",
            "Enter the T1\n",
            "Simple interest is 20.0\n"
          ]
        }
      ]
    },
    {
      "cell_type": "markdown",
      "source": [
        "Python Program for compound interest"
      ],
      "metadata": {
        "id": "M2fYoPJP9BH4"
      }
    },
    {
      "cell_type": "code",
      "source": [
        "def compounf_interest(p,t,r):\n",
        "    amount  = p * pow((1+ r/100),t)\n",
        "    return amount - p\n",
        "\n",
        "P = int(input(\"Enter the principal?\"))\n",
        "R = int(input(\"Enter the rate?\"))\n",
        "T= int(input(\"Enter the T\"))\n",
        "print(f\"Compound interest is {compounf_interest(P,T,R)}\")"
      ],
      "metadata": {
        "colab": {
          "base_uri": "https://localhost:8080/"
        },
        "id": "JwteUjfV9AEk",
        "outputId": "7825c4cd-6205-4f21-d790-74a6657acaeb"
      },
      "execution_count": 9,
      "outputs": [
        {
          "output_type": "stream",
          "name": "stdout",
          "text": [
            "Enter the principal?1000\n",
            "Enter the rate?4\n",
            "Enter the T1\n",
            "Compound interest is 40.0\n"
          ]
        }
      ]
    },
    {
      "cell_type": "markdown",
      "source": [
        "Python Program to check Armstrong Number"
      ],
      "metadata": {
        "id": "mF2-nYb__BLn"
      }
    },
    {
      "cell_type": "code",
      "source": [
        "def armstrong(num):\n",
        "    sum =0\n",
        "    temp = num\n",
        "    s_value = num\n",
        "    while temp!=0:\n",
        "        r = temp %10 #to calculate the reminder\n",
        "        sum = sum +(r*r*r)\n",
        "        temp = temp//10 \n",
        "    return s_value== sum \n",
        "        \n",
        "num =153\n",
        "print(armstrong(num))\n"
      ],
      "metadata": {
        "colab": {
          "base_uri": "https://localhost:8080/"
        },
        "id": "spY4_0uBCSeI",
        "outputId": "54c8872d-da45-4e78-f98b-9e1500e8183a"
      },
      "execution_count": 20,
      "outputs": [
        {
          "output_type": "stream",
          "name": "stdout",
          "text": [
            "True\n"
          ]
        }
      ]
    },
    {
      "cell_type": "markdown",
      "source": [
        "Python Program for Program to find area of a circle"
      ],
      "metadata": {
        "id": "A-NTVD3-EZh7"
      }
    },
    {
      "cell_type": "code",
      "source": [
        "import math\n",
        "def area_of_circle(r):\n",
        "  return math.pi* pow(r,2)\n",
        "x= float(input(\"Enter the area of circle?\"))\n",
        "print(f\"Area of circel is {area_of_circle(x)}\")"
      ],
      "metadata": {
        "colab": {
          "base_uri": "https://localhost:8080/"
        },
        "id": "D7_f-HabDIJp",
        "outputId": "4ba01201-48e1-4aa6-8ef0-36bbfca11805"
      },
      "execution_count": 22,
      "outputs": [
        {
          "output_type": "stream",
          "name": "stdout",
          "text": [
            "Enter the area of circle?5\n",
            "Area of circel is 78.53981633974483\n"
          ]
        }
      ]
    },
    {
      "cell_type": "code",
      "source": [
        ""
      ],
      "metadata": {
        "id": "dPRzpfGDEkpr"
      },
      "execution_count": null,
      "outputs": []
    }
  ]
}